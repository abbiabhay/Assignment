{
 "cells": [
  {
   "cell_type": "markdown",
   "metadata": {},
   "source": [
    "#      questio no-1"
   ]
  },
  {
   "cell_type": "code",
   "execution_count": 56,
   "metadata": {},
   "outputs": [
    {
     "name": "stdout",
     "output_type": "stream",
     "text": [
      "   \t* \n",
      "  \t* * \n",
      " \t* * * \n",
      "\t* * * * \n",
      "\t* * * * * \n",
      "\t* * * * \n",
      " \t* * * \n",
      "  \t* * \n",
      "   \t* \n"
     ]
    }
   ],
   "source": [
    "for i in range(0,4):\n",
    "    for k in range(0,3-i):\n",
    "        print(end=' ')\n",
    "    print(end='\\t')\n",
    "    \n",
    "    for j in range(0,i+1):\n",
    "        print('*',end=' ')\n",
    "    print()\n",
    "for i in range(4,-1,-1):\n",
    "    for k in range(0,3-i):\n",
    "        print(end=' ')\n",
    "    print(end='\\t')\n",
    "    \n",
    "    for j in range(0,i+1):\n",
    "        print('*',end=' ')\n",
    "    print()"
   ]
  },
  {
   "cell_type": "markdown",
   "metadata": {},
   "source": [
    "# question no-2\n"
   ]
  },
  {
   "cell_type": "code",
   "execution_count": 60,
   "metadata": {},
   "outputs": [
    {
     "name": "stdout",
     "output_type": "stream",
     "text": [
      "enter word: ineuron\n",
      "norueni\n"
     ]
    }
   ],
   "source": [
    "abc= input('enter word: ')\n",
    "abc1=''\n",
    "for i in range(len(abc)-1,-1,-1):\n",
    "    abc1=abc1+abc[i]\n",
    "print(abc1)"
   ]
  },
  {
   "cell_type": "code",
   "execution_count": null,
   "metadata": {},
   "outputs": [],
   "source": []
  }
 ],
 "metadata": {
  "kernelspec": {
   "display_name": "Python 3",
   "language": "python",
   "name": "python3"
  },
  "language_info": {
   "codemirror_mode": {
    "name": "ipython",
    "version": 3
   },
   "file_extension": ".py",
   "mimetype": "text/x-python",
   "name": "python",
   "nbconvert_exporter": "python",
   "pygments_lexer": "ipython3",
   "version": "3.6.5"
  }
 },
 "nbformat": 4,
 "nbformat_minor": 2
}
